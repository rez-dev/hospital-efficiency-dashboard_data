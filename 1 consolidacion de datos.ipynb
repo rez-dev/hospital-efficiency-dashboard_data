{
 "cells": [
  {
   "cell_type": "code",
   "execution_count": null,
   "id": "241554b8",
   "metadata": {},
   "outputs": [],
   "source": [
    "import pandas as pd\n",
    "\n",
    "# cargar archivos de carpeta 2014\n",
    "consolidated_2014 = pd.read_csv('./2014/2014_consolidated_data.csv', encoding='utf-8', delimiter=';')\n",
    "financial_2014 = pd.read_csv('./2014/2014_financial_data.csv', encoding='utf-8', delimiter=',')\n",
    "hospitals_2014 = pd.read_csv('./2014/2014_hospitals.csv', encoding='utf-8', delimiter=',')\n",
    "predictions_2014 = pd.read_csv('./2014/2014_prediciones_grd.txt', encoding='utf-8', delimiter=',')"
   ]
  },
  {
   "cell_type": "code",
   "execution_count": null,
   "id": "ea675a95",
   "metadata": {},
   "outputs": [],
   "source": [
    "consolidated_total = pd.read_excel('./Consolidado estadísticas hospitalarias 2014-2023.xlsx', sheet_name='2023',skiprows=1)"
   ]
  },
  {
   "cell_type": "code",
   "execution_count": null,
   "id": "84d83d8d",
   "metadata": {},
   "outputs": [],
   "source": [
    "hospitals = pd.read_csv('hospitales.csv', encoding='utf-8')"
   ]
  },
  {
   "cell_type": "code",
   "execution_count": null,
   "id": "1f8ee1e0",
   "metadata": {},
   "outputs": [],
   "source": [
    "# agregar columnas a hospitals_2014 que van a ser los de la columna complejidad de hospitals por id \n",
    "hospitals_2014 = pd.merge(hospitals_2014, hospitals[['hospital_id', 'complejidad']], on='hospital_id', how='left')\n"
   ]
  },
  {
   "cell_type": "markdown",
   "id": "c504eaf6",
   "metadata": {},
   "source": [
    "### Desarrollo"
   ]
  },
  {
   "cell_type": "code",
   "execution_count": null,
   "id": "a7f9e48a",
   "metadata": {},
   "outputs": [],
   "source": [
    "import pandas as pd"
   ]
  },
  {
   "cell_type": "code",
   "execution_count": null,
   "id": "c961b355",
   "metadata": {},
   "outputs": [],
   "source": [
    "regiones = pd.DataFrame({\n",
    "    \"region_id\": [1, 2, 3, 4, 5, 6, 7, 8, 9, 10, 11, 12, 13, 14, 15, 16],\n",
    "    \"Región\": [\n",
    "        \"Tarapacá\",\n",
    "        \"Antofagasta\",\n",
    "        \"Atacama\",\n",
    "        \"Coquimbo\",\n",
    "        \"Valparaíso\",\n",
    "        \"Libertador General Bernardo O'Higgins\",\n",
    "        \"Maule\",\n",
    "        \"Biobío\",\n",
    "        \"La Araucanía\",\n",
    "        \"Los Lagos\",\n",
    "        \"Aysén del General Carlos Ibáñez del Campo\",\n",
    "        \"Magallanes y de la Antártica Chilena\",\n",
    "        \"Metropolitana de Santiago\",\n",
    "        \"Los Ríos\",\n",
    "        \"Arica y Parinacota\",\n",
    "        \"Ñuble\"\n",
    "    ]\n",
    "})"
   ]
  },
  {
   "cell_type": "markdown",
   "id": "d067a991",
   "metadata": {},
   "source": [
    "Carga de datos"
   ]
  },
  {
   "cell_type": "code",
   "execution_count": 1,
   "id": "bd9e4bba",
   "metadata": {},
   "outputs": [],
   "source": [
    "import pandas as pd\n",
    "consolidated_total = pd.read_excel('./Consolidado estadísticas hospitalarias 2014-2023.xlsx', sheet_name='2023',skiprows=1)\n",
    "consolidated_2014 = pd.read_csv('./2014/2014_consolidated_data.csv', encoding='utf-8', delimiter=';', low_memory=False)\n",
    "financial_2014 = pd.read_csv('./2014/2014_financial_data.csv', encoding='utf-8', delimiter=',')\n",
    "hospitals_2014 = pd.read_csv('./2014/2014_hospitals.csv', encoding='utf-8', delimiter=',')\n",
    "predictions_2014 = pd.read_csv('./2014/2014_prediciones_grd.txt', encoding='utf-8', delimiter=',')\n",
    "consultas_2014 = pd.read_csv('./2014/variables/2014_consultas.txt', delimiter=',')\n",
    "quirofanos_2014 = pd.read_csv('./2014/variables/2014_quirofanos.txt', delimiter=',')\n",
    "consultas= consultas_2014.columns.values\n",
    "quirofanos = quirofanos_2014.columns.values\n",
    "\n",
    "#copiar columnas hospital_id, region_id, hospital_name, hospital_alternative_name, latitud y longitud de hospitals_2014 en df nuevo\n",
    "df_2014 = hospitals_2014[['hospital_id', 'region_id', 'hospital_name', 'hospital_alternative_name', 'latitud', 'longitud']].copy()"
   ]
  },
  {
   "cell_type": "markdown",
   "id": "2f1e848c",
   "metadata": {},
   "source": [
    "Obtener Consultas y Quirofanos"
   ]
  },
  {
   "cell_type": "code",
   "execution_count": 2,
   "id": "7394c469",
   "metadata": {},
   "outputs": [
    {
     "name": "stderr",
     "output_type": "stream",
     "text": [
      "C:\\Users\\roesc\\AppData\\Local\\Temp\\ipykernel_9552\\931739789.py:5: SettingWithCopyWarning: \n",
      "A value is trying to be set on a copy of a slice from a DataFrame.\n",
      "Try using .loc[row_indexer,col_indexer] = value instead\n",
      "\n",
      "See the caveats in the documentation: https://pandas.pydata.org/pandas-docs/stable/user_guide/indexing.html#returning-a-view-versus-a-copy\n",
      "  consolidated_2014_consultas['Consultas'] = consolidated_2014_consultas.iloc[:, 1:].sum(axis=1)\n",
      "C:\\Users\\roesc\\AppData\\Local\\Temp\\ipykernel_9552\\931739789.py:8: SettingWithCopyWarning: \n",
      "A value is trying to be set on a copy of a slice from a DataFrame.\n",
      "Try using .loc[row_indexer,col_indexer] = value instead\n",
      "\n",
      "See the caveats in the documentation: https://pandas.pydata.org/pandas-docs/stable/user_guide/indexing.html#returning-a-view-versus-a-copy\n",
      "  consolidated_2014_quirofanos['Quirofanos'] = consolidated_2014_quirofanos.iloc[:, 1:].sum(axis=1)\n"
     ]
    }
   ],
   "source": [
    "consolidated_2014_consultas = consolidated_2014[consultas]\n",
    "consolidated_2014_quirofanos = consolidated_2014[quirofanos]\n",
    "\n",
    "# sumar valores de todas las columnas de consolidated_2014_consultas y asignar a una nueva columna 'consultas'\n",
    "consolidated_2014_consultas['Consultas'] = consolidated_2014_consultas.iloc[:, 1:].sum(axis=1)\n",
    "# consolidated_2014_consultas.loc[:, 'Consultas'] = consolidated_2014_consultas.sum(axis=1)\n",
    "# sumar valores de todas las columnas de consolidated_2014_quirofanos y asignar a una nueva columna 'quirofanos'\n",
    "consolidated_2014_quirofanos['Quirofanos'] = consolidated_2014_quirofanos.iloc[:, 1:].sum(axis=1)\n",
    "# consolidated_2014_quirofanos.loc[:, 'Quirofanos'] = consolidated_2014_quirofanos.sum(axis=1)\n",
    "\n",
    "# pegar las columnas 'Consultas' y 'Quirofanos' a consolidated_2014 segun el hospital_id\n",
    "# consolidated_2014 = pd.merge(consolidated_2014, consolidated_2014_consultas[['idEstablecimiento', 'Consultas']], on='idEstablecimiento', how='left')\n",
    "# consolidated_2014 = pd.merge(consolidated_2014, consolidated_2014_quirofanos[['idEstablecimiento', 'Quirofanos']], on='idEstablecimiento', how='left')\n",
    "df_2014 = pd.merge(df_2014, consolidated_2014_consultas[['idEstablecimiento', 'Consultas']], left_on='hospital_id', right_on='idEstablecimiento', how='left')\n",
    "df_2014.drop(columns='idEstablecimiento', inplace=True)\n",
    "df_2014 = pd.merge(df_2014, consolidated_2014_quirofanos[['idEstablecimiento', 'Quirofanos']], left_on='hospital_id',right_on='idEstablecimiento', how='left')\n",
    "df_2014.drop(columns='idEstablecimiento', inplace=True)"
   ]
  },
  {
   "cell_type": "markdown",
   "id": "092f9df6",
   "metadata": {},
   "source": [
    "Obtener EgresosGRD"
   ]
  },
  {
   "cell_type": "code",
   "execution_count": 3,
   "id": "839e37f7",
   "metadata": {},
   "outputs": [],
   "source": [
    "# definir columna grd de predictions_2014 como el valor de la columna OriginalGRD y si es igual a -, usar el valor de la columna Prediction\n",
    "predictions_2014['grd'] = predictions_2014.apply(lambda x: x['OriginalGRD'] if x['OriginalGRD'] != '-' else x['Prediction'], axis=1)\n",
    "\n",
    "# seleccionar valor de consolidated_total con glosa igual Numero de Egresos y Dias Cama Disponibles\n",
    "# egresos = consolidated_total[consolidated_total['Glosa'].isin(['Numero de Egresos'])] # , 'Días Cama Disponibles'\n",
    "\n",
    "egresos = consolidated_total[(consolidated_total['Glosa'] == 'Numero de Egresos') & \n",
    "                             (consolidated_total['Nombre Nivel Cuidado'] == 'Datos Establecimiento')]\n",
    "\n",
    "# pegar columna Acum de egresos en predictions_2014\n",
    "predictions_2014 = pd.merge(predictions_2014, egresos[['Cód. Estab.', 'Acum']], left_on='IdEstablecimiento', right_on='Cód. Estab.', how='left')\n",
    "# renombrar columna Acum a Egresos\n",
    "predictions_2014.rename(columns={'Acum': 'Egresos'}, inplace=True)\n",
    "\n",
    "# pasar grd a float \n",
    "predictions_2014['grd'] = predictions_2014['grd'].astype(float)\n",
    "# pasar Egresos a float\n",
    "predictions_2014['Egresos'] = predictions_2014['Egresos'].astype(float)\n",
    "\n",
    "# multiplicar grd por Egresos y asignar a columna Prediccion\n",
    "predictions_2014['GRDxEgreso'] = predictions_2014['grd'] * predictions_2014['Egresos']\n",
    "\n",
    "# pegar columna GRDxEgreso a consolidated_2014 por idEstablecimiento\n",
    "# consolidated_2014 = pd.merge(consolidated_2014, predictions_2014[['IdEstablecimiento', 'GRDxEgreso']], left_on='idEstablecimiento', right_on='IdEstablecimiento', how='left')\n",
    "df_2014 = pd.merge(df_2014, predictions_2014[['IdEstablecimiento', 'GRDxEgreso']], left_on='hospital_id', right_on='IdEstablecimiento', how='left')\n",
    "df_2014.drop(columns='IdEstablecimiento', inplace=True)"
   ]
  },
  {
   "cell_type": "markdown",
   "id": "c819b782",
   "metadata": {},
   "source": [
    "Obtener x21value y x22value"
   ]
  },
  {
   "cell_type": "code",
   "execution_count": 4,
   "id": "dc07d6de",
   "metadata": {},
   "outputs": [],
   "source": [
    "# pegar valores 21_value y 22_value de financial_2014 a consolidated_2014 por idEstablecimiento\n",
    "financial_2014.rename(columns={'21_value': 'Bienes y servicios', '22_value': 'Remuneraciones'}, inplace=True)\n",
    "# consolidated_2014 = pd.merge(consolidated_2014, financial_2014[['hospital_id','Bienes y servicios', 'Remuneraciones']], left_on='idEstablecimiento', right_on='hospital_id', how='left')\n",
    "df_2014 = pd.merge(df_2014, financial_2014[['hospital_id','Bienes y servicios', 'Remuneraciones']], on='hospital_id', how='left')"
   ]
  },
  {
   "cell_type": "code",
   "execution_count": 5,
   "id": "f1400bd5",
   "metadata": {},
   "outputs": [],
   "source": [
    "# eliminar duplicados por idEstablecimiento y quedarnos con el primero\n",
    "# consolidated_2014 = consolidated_2014.drop_duplicates(subset=['idEstablecimiento'], keep='first')"
   ]
  },
  {
   "cell_type": "markdown",
   "id": "90bac673",
   "metadata": {},
   "source": [
    "Obtener dias de cama disponible"
   ]
  },
  {
   "cell_type": "code",
   "execution_count": 6,
   "id": "ed52ac29",
   "metadata": {},
   "outputs": [
    {
     "name": "stderr",
     "output_type": "stream",
     "text": [
      "C:\\Users\\roesc\\AppData\\Local\\Temp\\ipykernel_9552\\3315817961.py:6: SettingWithCopyWarning: \n",
      "A value is trying to be set on a copy of a slice from a DataFrame\n",
      "\n",
      "See the caveats in the documentation: https://pandas.pydata.org/pandas-docs/stable/user_guide/indexing.html#returning-a-view-versus-a-copy\n",
      "  dias_cama_disponible.rename(columns={'Acum': 'Dias Cama Disponibles'}, inplace=True)\n"
     ]
    }
   ],
   "source": [
    "# seleccionar valor de consolidated_total con glosa igual Dias Cama Disponibles\n",
    "dias_cama_disponible = consolidated_total[(consolidated_total['Glosa'] == 'Dias Cama Disponibles') & \n",
    "                             (consolidated_total['Nombre Nivel Cuidado'] == 'Datos Establecimiento')]\n",
    "\n",
    "# renombrar columna Acum a Dias Cama Disponibles\n",
    "dias_cama_disponible.rename(columns={'Acum': 'Dias Cama Disponibles'}, inplace=True)\n",
    "\n",
    "# pegar columna Dias Cama Disponibles de dias_cama_disponible en predictions_2014\n",
    "# predictions_2014 = pd.merge(predictions_2014, dias_cama_disponible[['Cód. Estab.', 'Dias Cama Disponibles']], left_on='IdEstablecimiento', right_on='Cód. Estab.', how='left')\n",
    "df_2014 = pd.merge(df_2014, dias_cama_disponible[['Cód. Estab.', 'Dias Cama Disponibles']], left_on='hospital_id', right_on='Cód. Estab.', how='left')\n",
    "df_2014.drop(columns='Cód. Estab.', inplace=True)"
   ]
  },
  {
   "cell_type": "markdown",
   "id": "d3d67803",
   "metadata": {},
   "source": [
    "Obtener examenes y consultas de emergencia"
   ]
  },
  {
   "cell_type": "code",
   "execution_count": 7,
   "id": "89639fd8",
   "metadata": {},
   "outputs": [],
   "source": [
    "import pandas as pd\n",
    "consolidated_2014 = pd.read_csv('./2014/2014_consolidated_data.csv', encoding='utf-8', delimiter=';', low_memory=False)\n",
    "\n",
    "consultas_urgencias_2014 = pd.read_csv('./2014/variables/2014_consultas_urgencias.txt', header=None).transpose()\n",
    "consultas_urgencias_2014.columns = consultas_urgencias_2014.iloc[0]\n",
    "consultas_urgencias = consultas_urgencias_2014.columns\n",
    "\n",
    "examenes_2014 = pd.read_csv('./2014/variables/2014_examenes.txt', header=None).transpose()\n",
    "examenes_2014.columns = examenes_2014.iloc[0]\n",
    "examenes = examenes_2014.columns\n",
    "\n",
    "consolidated_2014_consultas_urgencias = consolidated_2014[consultas_urgencias]\n",
    "consolidated_2014_examenes = consolidated_2014[examenes]"
   ]
  },
  {
   "cell_type": "code",
   "execution_count": 8,
   "id": "d6b7e4dd",
   "metadata": {},
   "outputs": [
    {
     "name": "stderr",
     "output_type": "stream",
     "text": [
      "C:\\Users\\roesc\\AppData\\Local\\Temp\\ipykernel_9552\\2278209602.py:1: SettingWithCopyWarning: \n",
      "A value is trying to be set on a copy of a slice from a DataFrame\n",
      "\n",
      "See the caveats in the documentation: https://pandas.pydata.org/pandas-docs/stable/user_guide/indexing.html#returning-a-view-versus-a-copy\n",
      "  consolidated_2014_consultas_urgencias.iloc[:, 1:] = consolidated_2014_consultas_urgencias.iloc[:, 1:].apply(pd.to_numeric, errors='coerce')\n",
      "C:\\Users\\roesc\\AppData\\Local\\Temp\\ipykernel_9552\\2278209602.py:5: SettingWithCopyWarning: \n",
      "A value is trying to be set on a copy of a slice from a DataFrame.\n",
      "Try using .loc[row_indexer,col_indexer] = value instead\n",
      "\n",
      "See the caveats in the documentation: https://pandas.pydata.org/pandas-docs/stable/user_guide/indexing.html#returning-a-view-versus-a-copy\n",
      "  consolidated_2014_consultas_urgencias['Consultas Urgencias'] = consolidated_2014_consultas_urgencias.iloc[:, 1:].sum(axis=1)\n",
      "C:\\Users\\roesc\\AppData\\Local\\Temp\\ipykernel_9552\\2278209602.py:8: SettingWithCopyWarning: \n",
      "A value is trying to be set on a copy of a slice from a DataFrame.\n",
      "Try using .loc[row_indexer,col_indexer] = value instead\n",
      "\n",
      "See the caveats in the documentation: https://pandas.pydata.org/pandas-docs/stable/user_guide/indexing.html#returning-a-view-versus-a-copy\n",
      "  consolidated_2014_examenes['Examenes'] = consolidated_2014_examenes.iloc[:, 1:].sum(axis=1)\n"
     ]
    }
   ],
   "source": [
    "consolidated_2014_consultas_urgencias.iloc[:, 1:] = consolidated_2014_consultas_urgencias.iloc[:, 1:].apply(pd.to_numeric, errors='coerce')\n",
    "consolidated_2014_examenes.iloc[:, 1:] = consolidated_2014_examenes.iloc[:, 1:].apply(pd.to_numeric, errors='coerce')\n",
    "\n",
    "# sumar valores de todas las columnas de consolidated_2014_consultas y asignar a una nueva columna 'consultas'\n",
    "consolidated_2014_consultas_urgencias['Consultas Urgencias'] = consolidated_2014_consultas_urgencias.iloc[:, 1:].sum(axis=1)\n",
    "# consolidated_2014_consultas.loc[:, 'Consultas'] = consolidated_2014_consultas.sum(axis=1)\n",
    "# sumar valores de todas las columnas de consolidated_2014_quirofanos y asignar a una nueva columna 'quirofanos'\n",
    "consolidated_2014_examenes['Examenes'] = consolidated_2014_examenes.iloc[:, 1:].sum(axis=1)\n",
    "# consolidated_2014_quirofanos.loc[:, 'Quirofanos'] = consolidated_2014_quirofanos.sum(axis=1)\n",
    "\n",
    "# pegar las columnas 'Consultas' y 'Quirofanos' a consolidated_2014 segun el hospital_id\n",
    "# consolidated_2014 = pd.merge(consolidated_2014, consolidated_2014_consultas[['idEstablecimiento', 'Consultas']], on='idEstablecimiento', how='left')\n",
    "# consolidated_2014 = pd.merge(consolidated_2014, consolidated_2014_quirofanos[['idEstablecimiento', 'Quirofanos']], on='idEstablecimiento', how='left')\n",
    "df_2014 = pd.merge(df_2014, consolidated_2014_consultas_urgencias[['idEstablecimiento', 'Consultas Urgencias']], left_on='hospital_id', right_on='idEstablecimiento', how='left')\n",
    "df_2014.drop(columns='idEstablecimiento', inplace=True)\n",
    "df_2014 = pd.merge(df_2014, consolidated_2014_examenes[['idEstablecimiento', 'Examenes']], left_on='hospital_id',right_on='idEstablecimiento', how='left')\n",
    "df_2014.drop(columns='idEstablecimiento', inplace=True)"
   ]
  }
 ],
 "metadata": {
  "kernelspec": {
   "display_name": "python311",
   "language": "python",
   "name": "python3"
  },
  "language_info": {
   "codemirror_mode": {
    "name": "ipython",
    "version": 3
   },
   "file_extension": ".py",
   "mimetype": "text/x-python",
   "name": "python",
   "nbconvert_exporter": "python",
   "pygments_lexer": "ipython3",
   "version": "3.11.11"
  }
 },
 "nbformat": 4,
 "nbformat_minor": 5
}
