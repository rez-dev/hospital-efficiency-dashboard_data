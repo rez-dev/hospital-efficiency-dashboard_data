{
 "cells": [
  {
   "cell_type": "code",
   "execution_count": 2,
   "id": "5a311da9",
   "metadata": {},
   "outputs": [
    {
     "name": "stdout",
     "output_type": "stream",
     "text": [
      "df_2014: 185\n",
      "df_2015: 185\n",
      "df_2016: 185\n",
      "df_2017: 188\n",
      "df_2018: 188\n",
      "df_2019: 188\n",
      "df_2020: 188\n",
      "df_2021: 186\n",
      "df_2022: 189\n",
      "df_2023: 190\n"
     ]
    }
   ],
   "source": [
    "import pandas as pd\n",
    "\n",
    "# leer archivo df_2014.csv\n",
    "df_2014 = pd.read_csv('df_2014.csv')\n",
    "\n",
    "# leer archivo df_2015.csv\n",
    "df_2015 = pd.read_csv('df_2015.csv')\n",
    "# eliminar duplicados segun hospital_id en df_2015\n",
    "df_2015 = df_2015.drop_duplicates(subset=['hospital_id'], keep='first')\n",
    "\n",
    "# # leer archivo df_2016.csv\n",
    "df_2016 = pd.read_csv('df_2016.csv')\n",
    "# eliminar duplicados segun hospital_id en df_2015\n",
    "df_2016 = df_2016.drop_duplicates(subset=['hospital_id'], keep='first')\n",
    "\n",
    "# leer archivo df_2017.csv\n",
    "df_2017 = pd.read_csv('df_2017.csv')\n",
    "# eliminar duplicados segun hospital_id en df_2015\n",
    "df_2017 = df_2017.drop_duplicates(subset=['hospital_id'], keep='first')\n",
    "\n",
    "# leer archivo df_2018.csv\n",
    "df_2018 = pd.read_csv('df_2018.csv')\n",
    "# eliminar duplicados segun hospital_id en df_2018\n",
    "df_2018 = df_2018.drop_duplicates(subset=['hospital_id'], keep='first')\n",
    "\n",
    "# leer archivo df_2019.csv\n",
    "df_2019 = pd.read_csv('df_2019.csv')\n",
    "# eliminar duplicados segun hospital_id en df_2019\n",
    "df_2019 = df_2019.drop_duplicates(subset=['hospital_id'], keep='first')\n",
    "\n",
    "# leer archivo df_2020.csv\n",
    "df_2020 = pd.read_csv('df_2020.csv')\n",
    "# eliminar duplicados segun hospital_id en df_2020\n",
    "df_2020 = df_2020.drop_duplicates(subset=['hospital_id'], keep='first')\n",
    "\n",
    "# leer archivo df_2021.csv\n",
    "df_2021 = pd.read_csv('df_2021.csv')\n",
    "# eliminar duplicados segun hospital_id en df_2021\n",
    "df_2021 = df_2021.drop_duplicates(subset=['hospital_id'], keep='first')\n",
    "\n",
    "# leer archivo df_2022.csv\n",
    "df_2022 = pd.read_csv('df_2022.csv')\n",
    "# eliminar duplicados segun hospital_id en df_2022\n",
    "df_2022 = df_2022.drop_duplicates(subset=['hospital_id'], keep='first')\n",
    "\n",
    "# leer archivo df_2023.csv\n",
    "df_2023 = pd.read_csv('df_2023.csv')\n",
    "# eliminar duplicados segun hospital_id en df_2023\n",
    "df_2023 = df_2023.drop_duplicates(subset=['hospital_id'], keep='first')\n",
    "\n",
    "\n",
    "\n",
    "# printear cantidad de filas en cada dataframe\n",
    "print(f\"df_2014: {len(df_2014)}\")\n",
    "print(f\"df_2015: {len(df_2015)}\")\n",
    "print(f\"df_2016: {len(df_2016)}\")\n",
    "print(f\"df_2017: {len(df_2017)}\")\n",
    "print(f\"df_2018: {len(df_2018)}\")\n",
    "print(f\"df_2019: {len(df_2019)}\")\n",
    "print(f\"df_2020: {len(df_2020)}\")\n",
    "print(f\"df_2021: {len(df_2021)}\")\n",
    "print(f\"df_2022: {len(df_2022)}\")\n",
    "print(f\"df_2023: {len(df_2023)}\")"
   ]
  },
  {
   "cell_type": "code",
   "execution_count": null,
   "id": "fbce42bc",
   "metadata": {},
   "outputs": [],
   "source": [
    "# consolidar en un solo dataframe y crear una columna con el año\n",
    "df_2014['year'] = 2014\n",
    "df_2015['year'] = 2015\n",
    "df_2016['year'] = 2016\n",
    "df_2017['year'] = 2017\n",
    "df_2018['year'] = 2018\n",
    "df_2019['year'] = 2019\n",
    "df_2020['year'] = 2020\n",
    "df_2021['year'] = 2021\n",
    "df_2022['year'] = 2022\n",
    "df_2023['year'] = 2023\n",
    "\n",
    "# concatenar dataframes\n",
    "df = pd.concat([df_2014, df_2015, df_2016, df_2017, df_2018, df_2019, df_2020, df_2021, df_2022, df_2023], ignore_index=True)"
   ]
  },
  {
   "cell_type": "code",
   "execution_count": 4,
   "id": "307f7f95",
   "metadata": {},
   "outputs": [],
   "source": [
    "# exportar dataframe a csv\n",
    "df.to_csv('df_consolidado_final.csv', index=False)"
   ]
  },
  {
   "cell_type": "code",
   "execution_count": 3,
   "id": "5308b51d",
   "metadata": {},
   "outputs": [],
   "source": [
    "import pandas as pd\n",
    "# lectura de consolidado\n",
    "df_consolidado = pd.read_csv('df_consolidado_final.csv')\n",
    "\n",
    "# exportar como excel\n",
    "df_consolidado.to_excel('df_consolidado_final.xlsx', index=False)"
   ]
  }
 ],
 "metadata": {
  "kernelspec": {
   "display_name": "python311",
   "language": "python",
   "name": "python3"
  },
  "language_info": {
   "codemirror_mode": {
    "name": "ipython",
    "version": 3
   },
   "file_extension": ".py",
   "mimetype": "text/x-python",
   "name": "python",
   "nbconvert_exporter": "python",
   "pygments_lexer": "ipython3",
   "version": "3.11.11"
  }
 },
 "nbformat": 4,
 "nbformat_minor": 5
}
